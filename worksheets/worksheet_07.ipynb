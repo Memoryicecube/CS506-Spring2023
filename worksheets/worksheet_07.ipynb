{
 "cells": [
  {
   "cell_type": "markdown",
   "metadata": {},
   "source": [
    "# Worksheet 07\n",
    "\n",
    "Name:  \n",
    "UID: \n",
    "\n",
    "### Topics\n",
    "\n",
    "- Soft Clustering\n",
    "- Clustering Aggregation\n",
    "\n",
    "### Probability Review\n",
    "\n",
    "Read through [the following](https://medium.com/@gallettilance/overview-of-probability-3272b72c82c8)\n",
    "\n",
    "### Soft Clustering\n",
    "\n",
    "We generate 10 data points that come from a normal distribution with mean 5 and variance 1."
   ]
  },
  {
   "cell_type": "code",
   "execution_count": 1,
   "metadata": {},
   "outputs": [
    {
     "name": "stdout",
     "output_type": "stream",
     "text": [
      "[6.2576734228484785, 4.7578070307302065, 4.494763776310731, 5.519291023630238, 4.263312078189034, 4.3494647666655455, 5.7824554854558325, 4.266697898963812, 4.222110372702063, 6.483269648901544]\n"
     ]
    }
   ],
   "source": [
    "import random\n",
    "import numpy as np\n",
    "from sklearn.cluster import KMeans\n",
    "\n",
    "mean = 5\n",
    "stdev = 1\n",
    "\n",
    "c1 = np.random.normal(mean, stdev, 10).tolist()\n",
    "print(c1)"
   ]
  },
  {
   "cell_type": "markdown",
   "metadata": {},
   "source": [
    "a) Generate 10 more data points, this time coming from a normal distribution with mean 8 and variance 1."
   ]
  },
  {
   "cell_type": "code",
   "execution_count": 2,
   "metadata": {},
   "outputs": [
    {
     "name": "stdout",
     "output_type": "stream",
     "text": [
      "[8.278296849945427, 5.813667150936817, 7.995181874025521, 9.745541343767743, 8.320641880519243, 8.427090877057903, 7.594882820270209, 8.515202260310884, 8.116089468934934, 8.139445157309503]\n"
     ]
    }
   ],
   "source": [
    "c2 = np.random.normal( 8 , 1 , 10 ).tolist()\n",
    "print(c2)"
   ]
  },
  {
   "cell_type": "markdown",
   "metadata": {},
   "source": [
    "b) Flip a fair coin 10 times. If the coin lands on H, then pick the last data point of `c1` and remove it from `c1`, if T then pick the last data point from `c2` and remove it from `c2`. Add these 10 points to a list called `data`."
   ]
  },
  {
   "cell_type": "code",
   "execution_count": 5,
   "metadata": {},
   "outputs": [
    {
     "name": "stdout",
     "output_type": "stream",
     "text": [
      "[6.483269648901544, 4.222110372702063, 8.139445157309503, 8.116089468934934, 8.515202260310884, 7.594882820270209, 4.266697898963812, 5.7824554854558325, 8.427090877057903, 4.3494647666655455]\n"
     ]
    }
   ],
   "source": [
    "data = []\n",
    "for i in range(10):\n",
    "    # flip coin\n",
    "    coin_output = random.choice([0, 1])\n",
    "    if coin_output == 0:\n",
    "        p1 = c1.pop(-1)\n",
    "        data.append(p1)\n",
    "    else:\n",
    "        p2 = c2.pop(-1)\n",
    "        data.append(p2)\n",
    "print(data)"
   ]
  },
  {
   "cell_type": "markdown",
   "metadata": {},
   "source": [
    "c) This `data` is a Gaussian Mixture Distribution with 2 mixture components. Over the next few questions we will walk through the GMM algorithm to see if we can uncover the parameters we used to generate this data. First, please list all these parameters of the GMM that created `data` and the values we know they have."
   ]
  },
  {
   "attachments": {},
   "cell_type": "markdown",
   "metadata": {},
   "source": [
    "The mean and var and P(c_j) for each component"
   ]
  },
  {
   "cell_type": "markdown",
   "metadata": {},
   "source": [
    "d) Let's assume there are two mixture components (note: we could plot the data and make the observation that there are two clusters). The EM algorithm asks us to start with a random `mean_j`, `variance_j`, `P(C_j)` for each component j. One method we could use to find sensible values for these is to apply K means with k=2 here.\n",
    "\n",
    "1. the centroids would be the estimates of the `mean_j`\n",
    "2. the intra-cluster variance could be the estimate of `variance_j`\n",
    "3. the proportion of points in each cluster could be the estimate of `P(C_j)`\n",
    "\n",
    "Go through this process and list the parameter estimates it gives. Are they close or far from the true values?"
   ]
  },
  {
   "cell_type": "markdown",
   "metadata": {},
   "source": []
  },
  {
   "cell_type": "code",
   "execution_count": 7,
   "metadata": {},
   "outputs": [
    {
     "name": "stdout",
     "output_type": "stream",
     "text": [
      "[4.222110372702063, 4.266697898963812, 5.7824554854558325, 4.3494647666655455]\n",
      "[6.483269648901544, 8.139445157309503, 8.116089468934934, 8.515202260310884, 7.594882820270209, 8.427090877057903]\n",
      "P(C_1) = 0.4,  P(C_2) = 0.6\n",
      "mean_1 = 4.655182130946813,  mean_2 = 7.879330038797495\n",
      "var_1 = 0.4256698672244311,  var_2 = 0.4763308588376638\n"
     ]
    },
    {
     "name": "stderr",
     "output_type": "stream",
     "text": [
      "/Library/Frameworks/Python.framework/Versions/3.11/lib/python3.11/site-packages/sklearn/cluster/_kmeans.py:870: FutureWarning: The default value of `n_init` will change from 10 to 'auto' in 1.4. Set the value of `n_init` explicitly to suppress the warning\n",
      "  warnings.warn(\n"
     ]
    }
   ],
   "source": [
    "kmeans = KMeans(2, init='k-means++').fit(X=np.array(data).reshape(-1, 1))\n",
    "\n",
    "c1 = [x[0] for x in filter(lambda x: x[1] == 0, zip(data, kmeans.labels_))]\n",
    "print(c1)\n",
    "c2 = [x[0] for x in filter(lambda x: x[1] == 1, zip(data, kmeans.labels_))]\n",
    "print(c2)\n",
    "\n",
    "prob_c = [ len(c1) / (len(c1) + len(c2)) , len(c2) / (len(c1) + len(c2)) ]\n",
    "mean = [ sum(c1)/len(c1) , sum(c2)/len(c2) ]\n",
    "var = [ sum(map(lambda x : (x - mean[0])**2, c1)) / len(c1) , sum(map(lambda x : (x - mean[1])**2, c2)) / len(c2) ]\n",
    "\n",
    "print(\"P(C_1) = \" + str(prob_c[0]) + \",  P(C_2) = \" + str(prob_c[1]))\n",
    "print(\"mean_1 = \" + str(mean[0]) + \",  mean_2 = \" + str(mean[1]))\n",
    "print(\"var_1 = \" + str(var[0]) + \",  var_2 = \" + str(var[1]))"
   ]
  },
  {
   "cell_type": "markdown",
   "metadata": {},
   "source": []
  },
  {
   "cell_type": "markdown",
   "metadata": {},
   "source": [
    "e) For each data point, compute `P(C_j | X_i)`. Comment on which cluster you think each point belongs to based on the estimated probabilities. How does that compare to the truth?"
   ]
  },
  {
   "cell_type": "code",
   "execution_count": 8,
   "metadata": {},
   "outputs": [
    {
     "name": "stdout",
     "output_type": "stream",
     "text": [
      "point =  6.483269648901544\n",
      "probability of observing that point if it came from cluster 0 =  9.264834295607407e-05\n",
      "probability of observing that point if it came from cluster 1 =  0.011421310854414196\n",
      "point =  4.222110372702063\n",
      "probability of observing that point if it came from cluster 0 =  0.5585632972915255\n",
      "probability of observing that point if it came from cluster 1 =  1.3247883858812547e-13\n",
      "point =  8.139445157309503\n",
      "probability of observing that point if it came from cluster 0 =  2.6480749212321912e-15\n",
      "probability of observing that point if it came from cluster 1 =  0.7215179314388418\n",
      "point =  8.116089468934934\n",
      "probability of observing that point if it came from cluster 0 =  4.1430942581485364e-15\n",
      "probability of observing that point if it came from cluster 1 =  0.7402077116267254\n",
      "point =  8.515202260310884\n",
      "probability of observing that point if it came from cluster 0 =  1.3052534315187455e-18\n",
      "probability of observing that point if it came from cluster 1 =  0.34358324897239106\n",
      "point =  7.594882820270209\n",
      "probability of observing that point if it came from cluster 0 =  4.1237865096678996e-11\n",
      "probability of observing that point if it came from cluster 1 =  0.7007543786693313\n",
      "point =  4.266697898963812\n",
      "probability of observing that point if it came from cluster 0 =  0.6179763311518928\n",
      "probability of observing that point if it came from cluster 1 =  2.7062680724274533e-13\n",
      "point =  5.7824554854558325\n",
      "probability of observing that point if it came from cluster 0 =  0.028115939469891844\n",
      "probability of observing that point if it came from cluster 1 =  5.1873165832892045e-05\n",
      "point =  8.427090877057903\n",
      "probability of observing that point if it came from cluster 0 =  8.348012899798873e-18\n",
      "probability of observing that point if it came from cluster 1 =  0.43235921929589044\n",
      "point =  4.3494647666655455\n",
      "probability of observing that point if it came from cluster 0 =  0.7241511802382324\n",
      "probability of observing that point if it came from cluster 1 =  9.957388967041783e-13\n",
      "6.483269648901544\n",
      "Probability of coming from C_1 = 0.00537883401024697\n",
      "Probability of coming from C_2 = 0.994621165989753\n",
      "\n",
      "4.222110372702063\n",
      "Probability of coming from C_1 = 0.9999999999996442\n",
      "Probability of coming from C_2 = 3.557667659971622e-13\n",
      "\n",
      "8.139445157309503\n",
      "Probability of coming from C_1 = 2.4467628646469704e-15\n",
      "Probability of coming from C_2 = 0.9999999999999976\n",
      "\n",
      "8.116089468934934\n",
      "Probability of coming from C_1 = 3.731469958203494e-15\n",
      "Probability of coming from C_2 = 0.9999999999999962\n",
      "\n",
      "8.515202260310884\n",
      "Probability of coming from C_1 = 2.532629157412018e-18\n",
      "Probability of coming from C_2 = 1.0\n",
      "\n",
      "7.594882820270209\n",
      "Probability of coming from C_1 = 3.923187767385591e-11\n",
      "Probability of coming from C_2 = 0.9999999999607682\n",
      "\n",
      "4.266697898963812\n",
      "Probability of coming from C_1 = 0.9999999999993432\n",
      "Probability of coming from C_2 = 6.568863407878239e-13\n",
      "\n",
      "5.7824554854558325\n",
      "Probability of coming from C_1 = 0.9972401773121435\n",
      "Probability of coming from C_2 = 0.002759822687856346\n",
      "\n",
      "8.427090877057903\n",
      "Probability of coming from C_1 = 1.2872032524858772e-17\n",
      "Probability of coming from C_2 = 1.0\n",
      "\n",
      "4.3494647666655455\n",
      "Probability of coming from C_1 = 0.9999999999979373\n",
      "Probability of coming from C_2 = 2.062564262564368e-12\n",
      "\n"
     ]
    }
   ],
   "source": [
    "from scipy.stats import norm\n",
    "\n",
    "prob_c0_x = [] # P(C_0 | X_i)\n",
    "prob_c1_x = [] # P(C_1 | X_i)\n",
    "prob_x = [] # P(X_i)\n",
    "\n",
    "k = 2\n",
    "\n",
    "for p in data:\n",
    "    print(\"point = \", p)\n",
    "    pdf_i = []\n",
    "\n",
    "    for j in range(k):\n",
    "        # P(X_i | C_j)\n",
    "        pdf_i.append(norm.pdf(p, mean[j], var[j]))\n",
    "        print(\"probability of observing that point if it came from cluster \" + str(j) + \" = \", pdf_i[j])\n",
    "        # P(C_j) already computed\n",
    "        prob_c[j]\n",
    "\n",
    "    # P(X_i) = P(C_0)P(X_i | C_0) + P(C_1)P(X_i | C_1)\n",
    "    prob_x = prob_c[0] * pdf_i[0] + prob_c[1] * pdf_i[1]\n",
    "\n",
    "    # P(C_j | X_i) = P(X_i | C_j)P(C_j) / P(X_i)\n",
    "    prob_c0_x.append(  pdf_i[0] *  prob_c[0] / prob_x )\n",
    "    prob_c1_x.append( pdf_i[1] *  prob_c[1] / prob_x )\n",
    "\n",
    "probs = zip(data, prob_c0_x, prob_c1_x)\n",
    "for p in probs:\n",
    "    print(p[0])\n",
    "    print(\"Probability of coming from C_1 = \" + str(p[1]))\n",
    "    print(\"Probability of coming from C_2 = \" + str(p[2]))\n",
    "    print()\n"
   ]
  },
  {
   "cell_type": "markdown",
   "metadata": {},
   "source": [
    "f) Having computed `P(C_j | X_i)`, update the estimates of `mean_j`, `var_j`, and `P(C_j)`. How different are these values from the original ones you got from K means? briefly comment."
   ]
  },
  {
   "cell_type": "code",
   "execution_count": 26,
   "metadata": {},
   "outputs": [
    {
     "name": "stdout",
     "output_type": "stream",
     "text": [
      "P(C_1) = 0.40026190113585536,  P(C_2) = 0.5997380988641446\n",
      "mean_1 = 4.656861507583312,  mean_2 = 7.879617193330967\n",
      "var_1 = 0.42900328285735456,  var_2 = 0.7144412203262696\n"
     ]
    }
   ],
   "source": [
    "prob_c = [sum(prob_c0_x)/ len(prob_c0_x), sum(prob_c1_x)/ len(prob_c1_x) ]\n",
    "mean = [sum([x[0] * x[1] for x in zip(prob_c0_x, data)]) / sum(prob_c0_x), sum([x[0] * x[1] for x in zip(prob_c1_x, data)]) / sum(prob_c1_x) ]\n",
    "var = [sum(map(lambda x : (x[0] * x[1]), zip(prob_c0_x, ((data-mean[0])*np.transpose(data-mean[0]))))) / sum(prob_c0_x)  , sum(map(lambda x : (x[0] * x[1]), zip(prob_c1_x, ((data - mean[1])*np.transpose(data - mean[1]))))) / sum(prob_c0_x) ]\n",
    "\n",
    "print(\"P(C_1) = \" + str(prob_c[0]) + \",  P(C_2) = \" + str(prob_c[1]))\n",
    "print(\"mean_1 = \" + str(mean[0]) + \",  mean_2 = \" + str(mean[1]))\n",
    "print(\"var_1 = \" + str(var[0]) + \",  var_2 = \" + str(var[1]))"
   ]
  },
  {
   "cell_type": "markdown",
   "metadata": {},
   "source": [
    "g) Update `P(C_j | X_i)`. Comment on any differences or lack thereof you observe."
   ]
  },
  {
   "cell_type": "code",
   "execution_count": 27,
   "metadata": {},
   "outputs": [
    {
     "name": "stdout",
     "output_type": "stream",
     "text": [
      "point =  6.483269648901544\n",
      "probability of observing that point if it came from cluster 0 =  0.00010781722000981084\n",
      "probability of observing that point if it came from cluster 1 =  0.08269112503418952\n",
      "point =  4.222110372702063\n",
      "probability of observing that point if it came from cluster 0 =  0.5564734965362091\n",
      "probability of observing that point if it came from cluster 1 =  1.137376080350226e-06\n",
      "point =  8.139445157309503\n",
      "probability of observing that point if it came from cluster 0 =  4.5557790968193264e-15\n",
      "probability of observing that point if it came from cluster 1 =  0.5226644839533485\n",
      "point =  8.116089468934934\n",
      "probability of observing that point if it came from cluster 0 =  7.077101726286377e-15\n",
      "probability of observing that point if it came from cluster 1 =  0.5286329827433982\n",
      "point =  8.515202260310884\n",
      "probability of observing that point if it came from cluster 0 =  2.535198709322638e-18\n",
      "probability of observing that point if it came from cluster 1 =  0.37591182515105775\n",
      "point =  7.594882820270209\n",
      "probability of observing that point if it came from cluster 0 =  6.079573306331132e-11\n",
      "probability of observing that point if it came from cluster 1 =  0.5157662666404593\n",
      "point =  4.266697898963812\n",
      "probability of observing that point if it came from cluster 0 =  0.6149517859468151\n",
      "probability of observing that point if it came from cluster 1 =  1.5624772671405368e-06\n",
      "point =  5.7824554854558325\n",
      "probability of observing that point if it came from cluster 0 =  0.029757944186684513\n",
      "probability of observing that point if it came from cluster 1 =  0.0075144054283533684\n",
      "point =  8.427090877057903\n",
      "probability of observing that point if it came from cluster 0 =  1.5742584165161074e-17\n",
      "probability of observing that point if it came from cluster 1 =  0.4163250254870046\n",
      "point =  4.3494647666655455\n",
      "probability of observing that point if it came from cluster 0 =  0.7193836410030642\n",
      "probability of observing that point if it came from cluster 1 =  2.7882268057569637e-06\n",
      "6.483269648901544\n",
      "Probability of coming from C_1 = 0.0008694289392956174\n",
      "Probability of coming from C_2 = 0.9991305710607045\n",
      "\n",
      "4.222110372702063\n",
      "Probability of coming from C_1 = 0.9999969375030803\n",
      "Probability of coming from C_2 = 3.0624969197238094e-06\n",
      "\n",
      "8.139445157309503\n",
      "Probability of coming from C_1 = 5.817311007177143e-15\n",
      "Probability of coming from C_2 = 0.9999999999999941\n",
      "\n",
      "8.116089468934934\n",
      "Probability of coming from C_1 = 8.934778634524222e-15\n",
      "Probability of coming from C_2 = 0.9999999999999911\n",
      "\n",
      "8.515202260310884\n",
      "Probability of coming from C_1 = 4.500996058536413e-18\n",
      "Probability of coming from C_2 = 1.0\n",
      "\n",
      "7.594882820270209\n",
      "Probability of coming from C_1 = 7.866884620451854e-11\n",
      "Probability of coming from C_2 = 0.9999999999213312\n",
      "\n",
      "4.266697898963812\n",
      "Probability of coming from C_1 = 0.9999961929518318\n",
      "Probability of coming from C_2 = 3.8070481682118742e-06\n",
      "\n",
      "5.7824554854558325\n",
      "Probability of coming from C_1 = 0.7254980965278404\n",
      "Probability of coming from C_2 = 0.27450190347215947\n",
      "\n",
      "8.427090877057903\n",
      "Probability of coming from C_1 = 2.5236325581943334e-17\n",
      "Probability of coming from C_2 = 1.0\n",
      "\n",
      "4.3494647666655455\n",
      "Probability of coming from C_1 = 0.9999941925911346\n",
      "Probability of coming from C_2 = 5.807408865355115e-06\n",
      "\n"
     ]
    }
   ],
   "source": [
    "new_prob_c0_x = [] # P(C_0 | X_i)\n",
    "new_prob_c1_x = [] # P(C_1 | X_i)\n",
    "new_prob_x = None # P(X_i)\n",
    "\n",
    "for p in data:\n",
    "    print(\"point = \", p)\n",
    "    pdf_i = []\n",
    "\n",
    "    for j in range(k):\n",
    "        # P(X_i | C_j)\n",
    "        pdf_i.append(norm.pdf(p, mean[j], var[j]))\n",
    "        print(\"probability of observing that point if it came from cluster \" + str(j) + \" = \", pdf_i[j])\n",
    "        # P(C_j) already computed\n",
    "        prob_c[j]\n",
    "\n",
    "    # P(X_i) = P(C_0)P(X_i | C_0) + P(C_1)P(X_i | C_1)\n",
    "    new_prob_x = prob_c[0] * pdf_i[0] + prob_c[1] * pdf_i[1]\n",
    "\n",
    "    # P(C_j | X_i) = P(X_i | C_j)P(C_j) / P(X_i)\n",
    "    new_prob_c0_x.append(  pdf_i[0] *  prob_c[0] / new_prob_x )\n",
    "    new_prob_c1_x.append( pdf_i[1] *  prob_c[1] / new_prob_x )\n",
    "\n",
    "probs = zip(data, new_prob_c0_x, new_prob_c1_x)\n",
    "for p in probs:\n",
    "    print(p[0])\n",
    "    print(\"Probability of coming from C_1 = \" + str(p[1]))\n",
    "    print(\"Probability of coming from C_2 = \" + str(p[2]))\n",
    "    print()"
   ]
  },
  {
   "cell_type": "markdown",
   "metadata": {},
   "source": []
  },
  {
   "cell_type": "markdown",
   "metadata": {},
   "source": [
    "h) Use `P(C_j | X_i)` to create a hard assignment - label each point as belonging to a specific cluster (0 or 1)"
   ]
  },
  {
   "cell_type": "code",
   "execution_count": 33,
   "metadata": {},
   "outputs": [
    {
     "data": {
      "text/plain": [
       "[(6.483269648901544, 1),\n",
       " (4.222110372702063, 0),\n",
       " (8.139445157309503, 1),\n",
       " (8.116089468934934, 1),\n",
       " (8.515202260310884, 1),\n",
       " (7.594882820270209, 1),\n",
       " (4.266697898963812, 0),\n",
       " (5.7824554854558325, 0),\n",
       " (8.427090877057903, 1),\n",
       " (4.3494647666655455, 0)]"
      ]
     },
     "execution_count": 33,
     "metadata": {},
     "output_type": "execute_result"
    }
   ],
   "source": [
    "res = []\n",
    "probs = zip(data, new_prob_c0_x, new_prob_c1_x)\n",
    "for d in probs:\n",
    "    if(d[1]>d[2]):\n",
    "        res.append((d[0],0))\n",
    "    else:\n",
    "        res.append((d[0],1))\n",
    "\n",
    "res"
   ]
  },
  {
   "cell_type": "markdown",
   "metadata": {},
   "source": [
    "### Clustering Aggregation\n",
    "\n",
    "| Point | C | P |\n",
    "|-------|---|---|\n",
    "| A     | 0 | a |\n",
    "| B     | 0 | b |\n",
    "| C     | 2 | b |\n",
    "| D     | 1 | c |\n",
    "| E     | 1 | d |\n",
    "\n",
    "a) Fill in the following table where for each pair of points determine whether C and P agree or disagree on how to cluster that pair."
   ]
  },
  {
   "cell_type": "markdown",
   "metadata": {},
   "source": [
    "| Pair | Disagreement |\n",
    "|------|--------------|\n",
    "| A  B |      ?       |\n",
    "| A  C |      ?       |\n",
    "| A  D |      ?       |\n",
    "| A  E |      ?       |\n",
    "| B  C |      ?       |\n",
    "| B  D |      ?       |\n",
    "| B  E |      ?       |\n",
    "| C  D |      ?       |\n",
    "| C  E |      ?       |\n",
    "| D  E |      ?       |\n"
   ]
  },
  {
   "cell_type": "markdown",
   "metadata": {},
   "source": [
    "As datasets become very large, this process can become computationally challenging.\n",
    "\n",
    "b) Given N points, what is the formula for the number of unique pairs of points one can create?"
   ]
  },
  {
   "cell_type": "markdown",
   "metadata": {},
   "source": []
  },
  {
   "cell_type": "markdown",
   "metadata": {},
   "source": [
    "Assume that clustering C clusters all points in the same cluster and clustering P clusters points as such:\n",
    "\n",
    "| Point | P |\n",
    "|-------|---|\n",
    "| A     | 0 |\n",
    "| B     | 0 |\n",
    "| C     | 0 |\n",
    "| D     | 1 |\n",
    "| E     | 1 |\n",
    "| F     | 2 |\n",
    "| G     | 2 |\n",
    "| H     | 2 |\n",
    "| I     | 2 |\n",
    "\n",
    "c) What is the maximum number of disagreements there could be for a dataset of this size? (use the formula from b)?"
   ]
  },
  {
   "cell_type": "markdown",
   "metadata": {},
   "source": []
  },
  {
   "cell_type": "markdown",
   "metadata": {},
   "source": [
    "d) If we look at cluster 0. There are (3 x 2) / 2 = 3 pairs that agree with C (since all points in C are in the same cluster). For each cluster, determine how many agreements there are. How many total agreements are there? How many disagreements does that mean there are between C and P?"
   ]
  },
  {
   "cell_type": "markdown",
   "metadata": {},
   "source": []
  },
  {
   "cell_type": "markdown",
   "metadata": {},
   "source": [
    "e) Assuming that filtering the dataset by cluster number is a computationally easy operation, describe an algorithm inspired by the above process that can efficiently compute disagreement distances on large datasets."
   ]
  },
  {
   "cell_type": "markdown",
   "metadata": {},
   "source": []
  }
 ],
 "metadata": {
  "kernelspec": {
   "display_name": "Python 3",
   "language": "python",
   "name": "python3"
  },
  "language_info": {
   "codemirror_mode": {
    "name": "ipython",
    "version": 3
   },
   "file_extension": ".py",
   "mimetype": "text/x-python",
   "name": "python",
   "nbconvert_exporter": "python",
   "pygments_lexer": "ipython3",
   "version": "3.11.1"
  },
  "orig_nbformat": 4,
  "vscode": {
   "interpreter": {
    "hash": "aee8b7b246df8f9039afb4144a1f6fd8d2ca17a180786b69acc140d282b71a49"
   }
  }
 },
 "nbformat": 4,
 "nbformat_minor": 2
}
