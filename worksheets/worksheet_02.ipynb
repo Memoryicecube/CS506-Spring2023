{
 "cells": [
  {
   "attachments": {},
   "cell_type": "markdown",
   "metadata": {},
   "source": [
    "# Worksheet 02\n",
    "\n",
    "Name:  \n",
    "UID: \n",
    "\n",
    "### Topics\n",
    "\n",
    "- Effective Programming\n",
    "\n",
    "### Effective Programming\n",
    "\n",
    "a) What is a drawback of the top down approach?"
   ]
  },
  {
   "attachments": {},
   "cell_type": "markdown",
   "metadata": {},
   "source": [
    "    for untype language, we can't make sure the code is runable until the end. So the bugs might be accumulated"
   ]
  },
  {
   "cell_type": "markdown",
   "metadata": {},
   "source": [
    "b) What is a drawback of the bottom up approach?"
   ]
  },
  {
   "attachments": {},
   "cell_type": "markdown",
   "metadata": {},
   "source": [
    "    waste time writing code that are not useful. Require good organization. Might not know everything you need upfront"
   ]
  },
  {
   "cell_type": "markdown",
   "metadata": {},
   "source": [
    "c) What are 3 things you can do to have a better debugging experience?"
   ]
  },
  {
   "attachments": {},
   "cell_type": "markdown",
   "metadata": {},
   "source": [
    "    Don't Panic, Read the error, and re-read my code"
   ]
  },
  {
   "attachments": {},
   "cell_type": "markdown",
   "metadata": {},
   "source": [
    "d) (Optional) Follow along with the live coding. You can write your code here:"
   ]
  },
  {
   "cell_type": "code",
   "execution_count": 1,
   "metadata": {},
   "outputs": [
    {
     "ename": "SyntaxError",
     "evalue": "invalid syntax (3671053885.py, line 20)",
     "output_type": "error",
     "traceback": [
      "\u001b[0;36m  Cell \u001b[0;32mIn[1], line 20\u001b[0;36m\u001b[0m\n\u001b[0;31m    if self.board[row -i][col - i] == 'q' and self.board[][] == 'q':\u001b[0m\n\u001b[0m                                                         ^\u001b[0m\n\u001b[0;31mSyntaxError\u001b[0m\u001b[0;31m:\u001b[0m invalid syntax\n"
     ]
    }
   ],
   "source": [
    "class Board():\n",
    "    def __init__(self) -> None:\n",
    "        self.board = [[\"-\" for _ in range(8)] for _ in range(8)]\n",
    "        \n",
    "    def __repr__(self) -> str:\n",
    "        return \"\\n\".join([' '.join(x) for x in self.board])\n",
    "    \n",
    "    def is_valid_row(self, row):\n",
    "        for i in range(8):\n",
    "            if self.board[row][i] == 'g':\n",
    "                return False\n",
    "            \n",
    "    def is_valid_col(self, col):\n",
    "        for i in range(8):\n",
    "            if self.board[i][col] == 'g':\n",
    "                return False\n",
    "    \n",
    "    def is_valid_diag(self, row, col):\n",
    "        for i in range(8):\n",
    "            if self.board[row -i][col - i] == 'q' and self.board[][] == 'q':\n",
    "                return False\n",
    "        return True\n",
    "    \n",
    "    def is_valid(self, row, col):\n",
    "        if self.num_queens() > 8:\n",
    "            return False\n",
    "        if not self.is_valid_row(row):\n",
    "            return False\n",
    "        if not self.is_valid_col(col):\n",
    "            return False\n",
    "        if not self.is_valid_diag(row, col):\n",
    "            return False\n",
    "        return True\n",
    "     \n",
    "    def set_queen_at(self, row, col):\n",
    "        self.board[row][col] = 'q'\n",
    "        \n",
    "    def unset_queen_on(self, row,col):\n",
    "        self.board[row] = [\"-\" for _ in range(8)] \n",
    "        \n",
    "    def find_queen_on(self, row):\n",
    "        for col in range(8):\n",
    "            if self.board[row][col] == 'g':\n",
    "                return (row, col)\n",
    "        raise ValueError(\"not found\")\n",
    "    \n",
    "    def search(self):\n",
    "        row = 0\n",
    "        col = 0\n",
    "        while row < 8:\n",
    "            if self.is_valid(row, col):\n",
    "                self.set_queen_at(row,col)\n",
    "                row += 1\n",
    "                col = 0\n",
    "            else:\n",
    "                col += 1\n",
    "                if(col >= 8):\n",
    "                    # backtrack\n",
    "                    col = self.find_queen_on(row-1)+1\n",
    "                    self.unset_queen_on(row-1)\n",
    "                    row -= 1\n",
    "                    \n",
    "        print(self)\n",
    "                \n",
    "board = Board()\n",
    "print(board)"
   ]
  }
 ],
 "metadata": {
  "kernelspec": {
   "display_name": "Python 3",
   "language": "python",
   "name": "python3"
  },
  "language_info": {
   "codemirror_mode": {
    "name": "ipython",
    "version": 3
   },
   "file_extension": ".py",
   "mimetype": "text/x-python",
   "name": "python",
   "nbconvert_exporter": "python",
   "pygments_lexer": "ipython3",
   "version": "3.11.1 (v3.11.1:a7a450f84a, Dec  6 2022, 15:24:06) [Clang 13.0.0 (clang-1300.0.29.30)]"
  },
  "orig_nbformat": 4,
  "vscode": {
   "interpreter": {
    "hash": "aee8b7b246df8f9039afb4144a1f6fd8d2ca17a180786b69acc140d282b71a49"
   }
  }
 },
 "nbformat": 4,
 "nbformat_minor": 2
}
